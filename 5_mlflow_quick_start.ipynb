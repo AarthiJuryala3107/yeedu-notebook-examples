{
  "nbformat": 4,
  "nbformat_minor": 0,
  "metadata": {
    "colab": {
      "provenance": []
    },
    "kernelspec": {
      "name": "python3",
      "display_name": "Python 3"
    },
    "language_info": {
      "name": "python"
    }
  },
  "cells": [
    {
      "cell_type": "code",
      "execution_count": null,
      "metadata": {
        "id": "0nYzzskeD6AV"
      },
      "outputs": [],
      "source": [
        "%pip install mlflow"
      ]
    },
    {
      "cell_type": "code",
      "source": [
        "import mlflow\n",
        "import mlflow.sklearn\n",
        "import pandas as pd\n",
        "import matplotlib.pyplot as plt\n",
        "\n",
        "from numpy import savetxt\n",
        "\n",
        "from sklearn.model_selection import train_test_split\n",
        "from sklearn.datasets import load_diabetes\n",
        "\n",
        "from sklearn.ensemble import RandomForestRegressor\n",
        "from sklearn.metrics import mean_squared_error"
      ],
      "metadata": {
        "id": "3gq2Ajd1D7b5"
      },
      "execution_count": null,
      "outputs": []
    },
    {
      "cell_type": "code",
      "source": [
        "db = load_diabetes()\n",
        "X = db.data\n",
        "y = db.target\n",
        "X_train, X_test, y_train, y_test = train_test_split(X, y)"
      ],
      "metadata": {
        "id": "uZuYE3TwD93r"
      },
      "execution_count": null,
      "outputs": []
    },
    {
      "cell_type": "code",
      "source": [
        "# Enable autolog()\n",
        "# mlflow.sklearn.autolog() requires mlflow 1.11.0 or above.\n",
        "mlflow.sklearn.autolog()\n",
        "\n",
        "# With autolog() enabled, all model parameters, a model score, and the fitted model are automatically logged.\n",
        "with mlflow.start_run():\n",
        "\n",
        "  # Set the model parameters.\n",
        "  n_estimators = 100\n",
        "  max_depth = 6\n",
        "  max_features = 3\n",
        "\n",
        "  # Create and train model.\n",
        "  rf = RandomForestRegressor(n_estimators = n_estimators, max_depth = max_depth, max_features = max_features)\n",
        "  rf.fit(X_train, y_train)\n",
        "\n",
        "  # Use the model to make predictions on the test dataset.\n",
        "  predictions = rf.predict(X_test)"
      ],
      "metadata": {
        "id": "YuUhOKweD_ZE"
      },
      "execution_count": null,
      "outputs": []
    }
  ]
}