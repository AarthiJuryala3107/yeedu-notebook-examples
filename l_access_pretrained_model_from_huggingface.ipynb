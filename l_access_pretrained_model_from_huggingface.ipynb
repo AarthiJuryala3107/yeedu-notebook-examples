{
 "cells": [
  {
   "cell_type": "code",
   "execution_count": null,
   "metadata": {
    "id": "ybChCaPqr8Bj"
   },
   "outputs": [],
   "source": [
    "# Install necessary libraries\n",
    "!pip install torch transformers"
   ]
  },
  {
   "cell_type": "code",
   "execution_count": 1,
   "metadata": {
    "colab": {
     "base_uri": "https://localhost:8080/",
     "height": 340,
     "referenced_widgets": [
      "8325cba7c9344a11b6e153479518a39e",
      "609bc05c10fd4727b27e264e816cc0de",
      "92a1f8c9cc214112915afd4eee620155",
      "27911178eb0b4fc9af2f4a8293bf459e",
      "7a79ae5f97cf49ea84f69231bebae54b",
      "8bb9238eccdd410f97e7ca330e807ef6",
      "79d6ea75b03c49bca4f80d44a746ac62",
      "3bd95543979f41d692a5e6bfd93db239",
      "3c0187970cd749da9269191de3df81b5",
      "1723ffdba4954769b4dad119d67d5727",
      "178aaa892cfa4a3da2d888cbf1a16449",
      "d564d134e6cc490e9915f05afbcdae85",
      "696748f94ae84ffa811016409961bfa7",
      "da6f57bf27d348538e3dd8320773de89",
      "5ed7f143017f4df69e7fe043eb955f4e",
      "453c12306a724e6fa1e9e124d417caf2",
      "a5567bd48579496e94cc929554526d8a",
      "1c6a63d18b85491283b1fdb0a59e3b9f",
      "edc6b42b6cf84e56afe3219f5ce1c3c2",
      "061c60d118ef439c8d7845ed49a1b4f6",
      "5c6b828a28e5417db3e93661d761674c",
      "26fb396176f447cf97a331ed1e772336",
      "962e34cd44f149e9a19f3f6f136197f8",
      "00250f04dafb4cb59482896ab8faa9a3",
      "76a8a6dd9741481f8a68c09f5f425758",
      "4e3a0591aad1460b932e6483e82d94db",
      "a4e43c569bd142db967f43c3d0fa660d",
      "9a146c1e79d04f69945d9264cbc6fea6",
      "00e5dd34604643649f54339f6c3cc704",
      "b565674ae81a4e3b91de339b42362530",
      "d7722a52919b4e7884f45cb314563019",
      "0a4b13a1e5904903bf0e5a94456f70e2",
      "7fe5f116243e43f7a5092920673aab41",
      "15ec68e28c9b46a0b501b2f7e3f50105",
      "c94bd04b90564a4bb556b2f1b3514035",
      "d9e4c7fb54ba422889dcbf7ed536e8cc",
      "88019bdb810d47b59db61ba42391deaa",
      "4b2bb12035d243948db9f6e78e275e71",
      "2bb9a95d009c418da1646b5a44bae3b6",
      "0564a83a8ffb41c1a12513c3484d5e63",
      "d63c37714e654e7b96da176729cd3a33",
      "9d0c54b50de647b0a74c2ef3793ca6cd",
      "a88a7a150cf14f9db372469d9bdc5bd1",
      "3ff7067ec31e41709f8dbee2e4e1b3a3",
      "6b0813fae6974ab7998cac6672ed5d18",
      "1e4248a68638497893a4431898056d69",
      "ca608caa07b74fb9b6dbf85db972d861",
      "3c3ed3a85a6e4fd69037597faca65bbf",
      "23fcd008b266401d8ac92409b9dccb3a",
      "d6ead4686e104135af4e9269dadd5512",
      "d49dec8c2ebf42fd9366b684176d6f25",
      "6929be1a46904fdcb3e36428c286a5c4",
      "f7a6069210a547988814f3db83140d7d",
      "a7e31a9e4a18456eabe4153c620da4fe",
      "b1ee786f727b4c01a585e44e0f70d696",
      "87705cd918864869a041b2212f2103c7",
      "5d71ca9adf1d4467b7ad77d70f7c1102",
      "789650e9bac147cc8443e4c081baa452",
      "9020d9ba1b0e4199896c239c5f47b0b2",
      "2a7067b1eefb4e76b272cd40cc88392a",
      "a181c216f6b34c72a75b5bcca8c280cc",
      "c1b72951d2c04d74a69c8732d3e19576",
      "e4f1bbe3e6564e0fa2de6d4238051887",
      "7dd151286d3544458e1b7491618fef20",
      "152248042f984a9990a7f04751b90522",
      "255eb28af4f1463d8eeee62aa60e5a88"
     ]
    },
    "id": "lCmPCBM2r7_P",
    "outputId": "e631ffb6-f925-4b50-e924-a011daefcec7"
   },
   "outputs": [
    {
     "name": "stderr",
     "output_type": "stream",
     "text": [
      "/usr/local/lib/python3.11/dist-packages/huggingface_hub/utils/_auth.py:94: UserWarning: \n",
      "The secret `HF_TOKEN` does not exist in your Colab secrets.\n",
      "To authenticate with the Hugging Face Hub, create a token in your settings tab (https://huggingface.co/settings/tokens), set it as secret in your Google Colab and restart your session.\n",
      "You will be able to reuse this secret in all of your notebooks.\n",
      "Please note that authentication is recommended but still optional to access public models or datasets.\n",
      "  warnings.warn(\n"
     ]
    },
    {
     "data": {
      "application/vnd.jupyter.widget-view+json": {
       "model_id": "8325cba7c9344a11b6e153479518a39e",
       "version_major": 2,
       "version_minor": 0
      },
      "text/plain": [
       "tokenizer_config.json:   0%|          | 0.00/1.43k [00:00<?, ?B/s]"
      ]
     },
     "metadata": {},
     "output_type": "display_data"
    },
    {
     "data": {
      "application/vnd.jupyter.widget-view+json": {
       "model_id": "d564d134e6cc490e9915f05afbcdae85",
       "version_major": 2,
       "version_minor": 0
      },
      "text/plain": [
       "vocab.txt:   0%|          | 0.00/232k [00:00<?, ?B/s]"
      ]
     },
     "metadata": {},
     "output_type": "display_data"
    },
    {
     "data": {
      "application/vnd.jupyter.widget-view+json": {
       "model_id": "962e34cd44f149e9a19f3f6f136197f8",
       "version_major": 2,
       "version_minor": 0
      },
      "text/plain": [
       "tokenizer.json:   0%|          | 0.00/712k [00:00<?, ?B/s]"
      ]
     },
     "metadata": {},
     "output_type": "display_data"
    },
    {
     "data": {
      "application/vnd.jupyter.widget-view+json": {
       "model_id": "15ec68e28c9b46a0b501b2f7e3f50105",
       "version_major": 2,
       "version_minor": 0
      },
      "text/plain": [
       "special_tokens_map.json:   0%|          | 0.00/695 [00:00<?, ?B/s]"
      ]
     },
     "metadata": {},
     "output_type": "display_data"
    },
    {
     "data": {
      "application/vnd.jupyter.widget-view+json": {
       "model_id": "6b0813fae6974ab7998cac6672ed5d18",
       "version_major": 2,
       "version_minor": 0
      },
      "text/plain": [
       "config.json:   0%|          | 0.00/737 [00:00<?, ?B/s]"
      ]
     },
     "metadata": {},
     "output_type": "display_data"
    },
    {
     "data": {
      "application/vnd.jupyter.widget-view+json": {
       "model_id": "87705cd918864869a041b2212f2103c7",
       "version_major": 2,
       "version_minor": 0
      },
      "text/plain": [
       "model.safetensors:   0%|          | 0.00/90.3M [00:00<?, ?B/s]"
      ]
     },
     "metadata": {},
     "output_type": "display_data"
    }
   ],
   "source": [
    "import torch\n",
    "from transformers import AutoModel, AutoTokenizer\n",
    "\n",
    "# Load the pre-trained model (https://huggingface.co/Snowflake/snowflake-arctic-embed-xs)\n",
    "tokenizer = AutoTokenizer.from_pretrained('Snowflake/snowflake-arctic-embed-xs')\n",
    "model = AutoModel.from_pretrained('Snowflake/snowflake-arctic-embed-xs', add_pooling_layer=False)"
   ]
  },
  {
   "cell_type": "code",
   "execution_count": 2,
   "metadata": {
    "colab": {
     "base_uri": "https://localhost:8080/"
    },
    "id": "7VwYYX_uZaMV",
    "outputId": "63c982df-4b83-4aee-e35b-d483f7a5affd"
   },
   "outputs": [
    {
     "data": {
      "text/plain": [
       "BertModel(\n",
       "  (embeddings): BertEmbeddings(\n",
       "    (word_embeddings): Embedding(30522, 384, padding_idx=0)\n",
       "    (position_embeddings): Embedding(512, 384)\n",
       "    (token_type_embeddings): Embedding(2, 384)\n",
       "    (LayerNorm): LayerNorm((384,), eps=1e-12, elementwise_affine=True)\n",
       "    (dropout): Dropout(p=0.1, inplace=False)\n",
       "  )\n",
       "  (encoder): BertEncoder(\n",
       "    (layer): ModuleList(\n",
       "      (0-5): 6 x BertLayer(\n",
       "        (attention): BertAttention(\n",
       "          (self): BertSdpaSelfAttention(\n",
       "            (query): Linear(in_features=384, out_features=384, bias=True)\n",
       "            (key): Linear(in_features=384, out_features=384, bias=True)\n",
       "            (value): Linear(in_features=384, out_features=384, bias=True)\n",
       "            (dropout): Dropout(p=0.1, inplace=False)\n",
       "          )\n",
       "          (output): BertSelfOutput(\n",
       "            (dense): Linear(in_features=384, out_features=384, bias=True)\n",
       "            (LayerNorm): LayerNorm((384,), eps=1e-12, elementwise_affine=True)\n",
       "            (dropout): Dropout(p=0.1, inplace=False)\n",
       "          )\n",
       "        )\n",
       "        (intermediate): BertIntermediate(\n",
       "          (dense): Linear(in_features=384, out_features=1536, bias=True)\n",
       "          (intermediate_act_fn): GELUActivation()\n",
       "        )\n",
       "        (output): BertOutput(\n",
       "          (dense): Linear(in_features=1536, out_features=384, bias=True)\n",
       "          (LayerNorm): LayerNorm((384,), eps=1e-12, elementwise_affine=True)\n",
       "          (dropout): Dropout(p=0.1, inplace=False)\n",
       "        )\n",
       "      )\n",
       "    )\n",
       "  )\n",
       ")"
      ]
     },
     "execution_count": 2,
     "metadata": {},
     "output_type": "execute_result"
    }
   ],
   "source": [
    "# Set the model in evaluation model\n",
    "model.eval()"
   ]
  },
  {
   "cell_type": "code",
   "execution_count": 3,
   "metadata": {
    "colab": {
     "base_uri": "https://localhost:8080/"
    },
    "id": "iRqkZv3eZZ_m",
    "outputId": "f0e0f305-ec78-4422-84ee-e57e71beef10"
   },
   "outputs": [
    {
     "name": "stdout",
     "output_type": "stream",
     "text": [
      "Query: What is Snowflake?\n",
      "tensor(0.5752) The Data Cloud!\n",
      "tensor(0.4648) Mexico City, of course!\n",
      "Query: Where can I get the best tacos?\n",
      "tensor(0.5582) Mexico City, of course!\n",
      "tensor(0.5045) The Data Cloud!\n"
     ]
    }
   ],
   "source": [
    "# Now that we have the pre-trained model, we can use it to score how relevant each document is to each query\n",
    "\n",
    "query_prefix = 'Represent this sentence for searching relevant passages: '\n",
    "queries  = ['What is Snowflake?', 'Where can I get the best tacos?']\n",
    "queries_with_prefix = [\"{}{}\".format(query_prefix, i) for i in queries]\n",
    "query_tokens = tokenizer(queries_with_prefix, padding=True, truncation=True, return_tensors='pt', max_length=512)\n",
    "\n",
    "documents = ['The Data Cloud!', 'Mexico City, of course!']\n",
    "document_tokens =  tokenizer(documents, padding=True, truncation=True, return_tensors='pt', max_length=512)\n",
    "\n",
    "# Compute token embeddings\n",
    "with torch.no_grad():\n",
    "    query_embeddings = model(**query_tokens)[0][:, 0]\n",
    "    document_embeddings = model(**document_tokens)[0][:, 0]\n",
    "\n",
    "\n",
    "# normalize embeddings\n",
    "query_embeddings = torch.nn.functional.normalize(query_embeddings, p=2, dim=1)\n",
    "document_embeddings = torch.nn.functional.normalize(document_embeddings, p=2, dim=1)\n",
    "\n",
    "scores = torch.mm(query_embeddings, document_embeddings.transpose(0, 1))\n",
    "for query, query_scores in zip(queries, scores):\n",
    "    doc_score_pairs = list(zip(documents, query_scores))\n",
    "    doc_score_pairs = sorted(doc_score_pairs, key=lambda x: x[1], reverse=True)\n",
    "    #Output passages & scores\n",
    "    print(\"Query:\", query)\n",
    "    for document, score in doc_score_pairs:\n",
    "        print(score, document)"
   ]
  }
 ],
 "metadata": {
  "colab": {
   "provenance": []
  },
  "kernelspec": {
   "display_name": "Python 3",
   "name": "python3"
  },
  "language_info": {
   "name": "python"
  }
 },
 "nbformat": 4,
 "nbformat_minor": 0
}
