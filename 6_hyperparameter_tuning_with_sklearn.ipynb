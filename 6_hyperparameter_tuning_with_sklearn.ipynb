{
  "nbformat": 4,
  "nbformat_minor": 0,
  "metadata": {
    "colab": {
      "provenance": []
    },
    "kernelspec": {
      "name": "python3",
      "display_name": "Python 3"
    },
    "language_info": {
      "name": "python"
    }
  },
  "cells": [
    {
      "cell_type": "code",
      "execution_count": null,
      "metadata": {
        "id": "wc1Rxa1QNzCj"
      },
      "outputs": [],
      "source": [
        "%pip install scikit-learn pandas altair"
      ]
    },
    {
      "cell_type": "code",
      "source": [
        "# Load iris flower dataset\n",
        "from sklearn import svm, datasets\n",
        "iris = datasets.load_iris()"
      ],
      "metadata": {
        "id": "es1S-rY2N4Xz"
      },
      "execution_count": null,
      "outputs": []
    },
    {
      "cell_type": "code",
      "source": [
        "import pandas as pd\n",
        "df = pd.DataFrame(iris.data,columns=iris.feature_names)\n",
        "df['flower'] = iris.target\n",
        "df['flower'] = df['flower'].apply(lambda x: iris.target_names[x])\n",
        "df"
      ],
      "metadata": {
        "id": "K6ADhGlEN7HL"
      },
      "execution_count": null,
      "outputs": []
    },
    {
      "cell_type": "code",
      "source": [
        "from sklearn.model_selection import train_test_split\n",
        "X_train, X_test, y_train, y_test = train_test_split(iris.data, iris.target, test_size=0.3)"
      ],
      "metadata": {
        "id": "hM_v17RDN9nS"
      },
      "execution_count": null,
      "outputs": []
    },
    {
      "cell_type": "code",
      "source": [
        "from sklearn.model_selection import cross_val_score\n",
        "# Build a Support Vector Classification (SVC) model\n",
        "model = svm.SVC(kernel='rbf',C=30,gamma='auto')\n",
        "model.fit(X_train,y_train)\n",
        "model.score(X_test, y_test)"
      ],
      "metadata": {
        "id": "1UhCGQPMOABs"
      },
      "execution_count": null,
      "outputs": []
    },
    {
      "cell_type": "code",
      "source": [
        "# Using a for-loop to iterate over different kernel types and regularization parameter (C) values\n",
        "import numpy as np\n",
        "kernels = ['rbf', 'linear']\n",
        "C = [1,10,20]\n",
        "avg_scores = {}\n",
        "for kval in kernels:\n",
        "    for cval in C:\n",
        "        cv_scores = cross_val_score(svm.SVC(kernel=kval,C=cval,gamma='auto'),iris.data, iris.target, cv=5)\n",
        "        avg_scores[kval + '_' + str(cval)] = np.average(cv_scores)\n",
        "\n",
        "avg_scores"
      ],
      "metadata": {
        "id": "y2k9dycwOCKt"
      },
      "execution_count": null,
      "outputs": []
    },
    {
      "cell_type": "code",
      "source": [
        "#Hyperparameter Search with Grid Search\n",
        "\n",
        "from sklearn.model_selection import GridSearchCV\n",
        "gs = GridSearchCV(svm.SVC(gamma='auto'), {\n",
        "    'C': [1,5,10,20,30,50],\n",
        "    'kernel': ['rbf','linear','poly']\n",
        "}, cv=5, return_train_score=False)\n",
        "gs.fit(iris.data, iris.target)"
      ],
      "metadata": {
        "id": "LDKXHC6zOC1l"
      },
      "execution_count": null,
      "outputs": []
    },
    {
      "cell_type": "code",
      "source": [
        "df = pd.DataFrame(gs.cv_results_)\n",
        "df"
      ],
      "metadata": {
        "id": "mrDLtQrtOFeQ"
      },
      "execution_count": null,
      "outputs": []
    },
    {
      "cell_type": "code",
      "source": [
        "results = df[['param_C','param_kernel','mean_test_score']]\n",
        "results"
      ],
      "metadata": {
        "id": "hJHH5ZJbOH0J"
      },
      "execution_count": null,
      "outputs": []
    },
    {
      "cell_type": "code",
      "source": [
        "import altair as alt\n",
        "alt.Chart(results).mark_rect().encode(\n",
        "    x='param_C:O',\n",
        "    y='param_kernel:O',\n",
        "    color='mean_test_score:Q'\n",
        ")"
      ],
      "metadata": {
        "id": "vE1_DZ_fOKwf"
      },
      "execution_count": null,
      "outputs": []
    },
    {
      "cell_type": "code",
      "source": [
        "print(f\"From GridSearch, this is the best parameter combination {gs.best_params_} and resulting score {gs.best_score_:.2f}.\")"
      ],
      "metadata": {
        "id": "PHFpSdf4OSdC"
      },
      "execution_count": null,
      "outputs": []
    },
    {
      "cell_type": "code",
      "source": [
        "# Hyperparameter Search with Randomized Search\n",
        "\n",
        "from sklearn.model_selection import RandomizedSearchCV\n",
        "rs = RandomizedSearchCV(svm.SVC(gamma='auto'), {\n",
        "        'C': [1,5,10,20,30,50],\n",
        "        'kernel': ['rbf','linear','poly']\n",
        "    },\n",
        "    cv=5,\n",
        "    return_train_score=False,\n",
        "    n_iter=2\n",
        ")\n",
        "import time\n",
        "start = time.time()\n",
        "rs.fit(iris.data, iris.target)\n",
        "end = time.time()\n",
        "print(f\"RandomizedSearchCV took {end-start:.2f} seconds\")\n",
        "df = pd.DataFrame(rs.cv_results_)[['param_C','param_kernel','mean_test_score']]\n",
        "df"
      ],
      "metadata": {
        "id": "Om0sTOnpOb0W"
      },
      "execution_count": null,
      "outputs": []
    },
    {
      "cell_type": "code",
      "source": [
        "start = time.time()\n",
        "gs.fit(iris.data, iris.target)\n",
        "end = time.time()\n",
        "print(f\"GridSearchCV took {end-start:.2f} seconds\")"
      ],
      "metadata": {
        "id": "kZ_ct5O3OeOQ"
      },
      "execution_count": null,
      "outputs": []
    },
    {
      "cell_type": "code",
      "source": [
        "# Model Comparison with Grid Search\n",
        "\n",
        "from sklearn import svm\n",
        "from sklearn.ensemble import RandomForestClassifier\n",
        "from sklearn.linear_model import LogisticRegression\n",
        "\n",
        "model_params = {\n",
        "    'svm': {\n",
        "        'model': svm.SVC(gamma='auto'),\n",
        "        'params' : {\n",
        "            'C': [1,5,10,20,30,50],\n",
        "            'kernel': ['rbf','linear','poly']\n",
        "        }\n",
        "    },\n",
        "    'random_forest': {\n",
        "        'model': RandomForestClassifier(),\n",
        "        'params' : {\n",
        "            'n_estimators': [1,5,10]\n",
        "        }\n",
        "    },\n",
        "    'logistic_regression' : {\n",
        "        'model': LogisticRegression(solver='liblinear',multi_class='auto'),\n",
        "        'params': {\n",
        "            'C': [1,5,10]\n",
        "        }\n",
        "    }\n",
        "}\n"
      ],
      "metadata": {
        "id": "dbA4V4bXOgjD"
      },
      "execution_count": null,
      "outputs": []
    },
    {
      "cell_type": "code",
      "source": [
        "scores = []\n",
        "\n",
        "for model_name, mp in model_params.items():\n",
        "    clf =  GridSearchCV(mp['model'], mp['params'], cv=5, return_train_score=False)\n",
        "    clf.fit(iris.data, iris.target)\n",
        "    scores.append({\n",
        "        'model': model_name,\n",
        "        'best_score': clf.best_score_,\n",
        "        'best_params': clf.best_params_\n",
        "    })\n",
        "\n",
        "df = pd.DataFrame(scores,columns=['model','best_score','best_params'])\n",
        "df"
      ],
      "metadata": {
        "id": "K3w7bcp3OjK5"
      },
      "execution_count": null,
      "outputs": []
    }
  ]
}