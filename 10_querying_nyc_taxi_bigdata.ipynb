{
  "nbformat": 4,
  "nbformat_minor": 0,
  "metadata": {
    "colab": {
      "provenance": []
    },
    "kernelspec": {
      "name": "python3",
      "display_name": "Python 3"
    },
    "language_info": {
      "name": "python"
    }
  },
  "cells": [
    {
      "cell_type": "code",
      "source": [
        "# Required Packages (Add under Advanced Options > Packages):\n",
        "\n",
        "'''\n",
        "org.apache.hadoop:hadoop-azure:3.3.2\n",
        "org.apache.hadoop:hadoop-azure-datalake:3.3.2\n",
        "'''"
      ],
      "metadata": {
        "id": "gq-I611PEBej"
      },
      "execution_count": null,
      "outputs": []
    },
    {
      "cell_type": "code",
      "source": [
        "# Use a cluster of atleast 32 GiB storage and 300 GB scratch disk to run the last query without issues"
      ],
      "metadata": {
        "id": "RQjKJowfFVxe"
      },
      "execution_count": null,
      "outputs": []
    },
    {
      "cell_type": "code",
      "source": [
        "# Azure ADLS configuration for accessing nyc-taxi-data public dataset from Azure (no credentials needed)\n",
        "# https://learn.microsoft.com/en-us/azure/open-datasets/dataset-taxi-yellow?tabs=azureml-opendatasets\n",
        "\n",
        "blob_account_name = \"azureopendatastorage\"\n",
        "blob_container_name = \"nyctlc\"\n",
        "blob_relative_path = \"yellow\"\n",
        "blob_sas_token = r\"\"\n",
        "wasbs_path = 'wasbs://%s@%s.blob.core.windows.net/%s' % (blob_container_name, blob_account_name, blob_relative_path)\n",
        "spark.conf.set('fs.azure.sas.%s.%s.blob.core.windows.net' % (blob_container_name, blob_account_name), blob_sas_token)\n",
        "\n",
        "# Read data from ADLS\n",
        "df = spark.read.parquet(wasbs_path)\n",
        "df.createOrReplaceTempView(\"source\")"
      ],
      "metadata": {
        "id": "VKR9s7Lg7fBo"
      },
      "execution_count": null,
      "outputs": []
    },
    {
      "cell_type": "code",
      "source": [
        "#Simple Query\n",
        "\n",
        "result = spark.sql(\"\"\"\n",
        "SELECT *\n",
        "FROM source\n",
        "ORDER BY tpepPickupDateTime DESC\n",
        "LIMIT 1000\n",
        "\"\"\")\n",
        "result.show()"
      ],
      "metadata": {
        "id": "IlMl6A_xDwxj"
      },
      "execution_count": null,
      "outputs": []
    },
    {
      "cell_type": "code",
      "source": [
        "# Medium Query\n",
        "\n",
        "display(spark.sql(\"\"\"SELECT puYear, puMonth, totalAmount\n",
        "FROM (\n",
        "SELECT puYear, puMonth, totalAmount, ROW_NUMBER() OVER (partition by puYear, puMonth order by totalAmount) as rn\n",
        "FROM source\n",
        ") ranked\n",
        "WHERE ranked.rn = 1\"\"\").show())"
      ],
      "metadata": {
        "id": "_WHA4u4cD4IG"
      },
      "execution_count": null,
      "outputs": []
    },
    {
      "cell_type": "code",
      "source": [
        "# Selective Query\n",
        "\n",
        "display(spark.sql(\"\"\"SELECT *\n",
        "  FROM source\n",
        "  WHERE startLon BETWEEN '-73.97' AND '-73.93'\n",
        "  AND startLat BETWEEN '40.75' AND '40.79'\n",
        "  AND vendorID = 'CMT'\n",
        "  AND tpepPickupDateTime BETWEEN '2014-04-30 23:55:04.000' and '2014-06-30 23:55:04.000'\n",
        "  and paymentType != 'CSH'\n",
        "  AND totalAmount < '4.00'\n",
        "  AND endLon < '-74'\"\"\").show())"
      ],
      "metadata": {
        "id": "G964S0qJD325"
      },
      "execution_count": null,
      "outputs": []
    },
    {
      "cell_type": "code",
      "source": [
        "# Ridiculous Query\n",
        "\n",
        "columns = spark.table(\"source\").columns\n",
        "\n",
        "group_by_query = f\"\"\"\n",
        "SELECT COUNT(*) AS total_rows\n",
        "FROM (\n",
        "  SELECT *\n",
        "  FROM source\n",
        "  GROUP BY {', '.join(columns)}\n",
        ") a\n",
        "\"\"\"\n",
        "# Execute and display the query\n",
        "display(spark.sql(group_by_query).show())"
      ],
      "metadata": {
        "id": "9JJONnsTD3qw"
      },
      "execution_count": null,
      "outputs": []
    }
  ]
}